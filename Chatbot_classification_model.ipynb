{
  "nbformat": 4,
  "nbformat_minor": 0,
  "metadata": {
    "colab": {
      "provenance": [],
      "authorship_tag": "ABX9TyPgvfLtC5wpZyPiu2vuaIJo",
      "include_colab_link": true
    },
    "kernelspec": {
      "name": "python3",
      "display_name": "Python 3"
    },
    "language_info": {
      "name": "python"
    }
  },
  "cells": [
    {
      "cell_type": "markdown",
      "metadata": {
        "id": "view-in-github",
        "colab_type": "text"
      },
      "source": [
        "<a href=\"https://colab.research.google.com/github/lilianabs/chatbot/blob/main/Chatbot_classification_model.ipynb\" target=\"_parent\"><img src=\"https://colab.research.google.com/assets/colab-badge.svg\" alt=\"Open In Colab\"/></a>"
      ]
    },
    {
      "cell_type": "code",
      "source": [
        "import nltk\n",
        "\n",
        "nltk.download('stopwords')"
      ],
      "metadata": {
        "colab": {
          "base_uri": "https://localhost:8080/"
        },
        "id": "HiJLl-r7ZKD0",
        "outputId": "0bdd73e7-660c-4313-8cdb-b11e654417c3"
      },
      "execution_count": 14,
      "outputs": [
        {
          "output_type": "stream",
          "name": "stderr",
          "text": [
            "[nltk_data] Downloading package stopwords to /root/nltk_data...\n",
            "[nltk_data]   Unzipping corpora/stopwords.zip.\n"
          ]
        },
        {
          "output_type": "execute_result",
          "data": {
            "text/plain": [
              "True"
            ]
          },
          "metadata": {},
          "execution_count": 14
        }
      ]
    },
    {
      "cell_type": "code",
      "source": [
        "import numpy\n",
        "import tensorflow\n",
        "import random\n",
        "import json\n",
        "import re\n",
        "\n",
        "from nltk.tokenize import RegexpTokenizer\n",
        "from nltk.tokenize.treebank import TreebankWordDetokenizer\n",
        "from nltk.corpus import stopwords\n",
        "\n",
        "from keras.utils import to_categorical\n",
        "from keras.preprocessing.text import Tokenizer\n",
        "from keras.preprocessing.sequence import pad_sequences"
      ],
      "metadata": {
        "id": "MniJg_XMWe8g"
      },
      "execution_count": 39,
      "outputs": []
    },
    {
      "cell_type": "code",
      "execution_count": 3,
      "metadata": {
        "colab": {
          "base_uri": "https://localhost:8080/"
        },
        "id": "_FKB67FyV6oI",
        "outputId": "7e16b62e-6592-4cb1-dca2-d53e6d83ef79"
      },
      "outputs": [
        {
          "output_type": "stream",
          "name": "stdout",
          "text": [
            "Drive already mounted at /content/drive; to attempt to forcibly remount, call drive.mount(\"/content/drive\", force_remount=True).\n"
          ]
        }
      ],
      "source": [
        "from google.colab import drive\n",
        "drive.mount('/content/drive')\n",
        "\n",
        "with open('/content/drive/My Drive/Intents.json', encoding='utf-8') as file:\n",
        "    data = json.load(file)"
      ]
    },
    {
      "cell_type": "code",
      "source": [
        "data['intents'][0]"
      ],
      "metadata": {
        "colab": {
          "base_uri": "https://localhost:8080/"
        },
        "id": "oDemuFn_W2f0",
        "outputId": "d76d98be-78e8-4f91-8282-d1984b704a42"
      },
      "execution_count": 5,
      "outputs": [
        {
          "output_type": "execute_result",
          "data": {
            "text/plain": [
              "{'tag': 'Capital',\n",
              " 'patterns': ['¿Cuál es la capital de Fráncia?',\n",
              "  '¿Sabes cuál es la capital para España?',\n",
              "  'En las capitales del mundo, ¿Cuál le pertenece a Inglaterra?',\n",
              "  'Si te pregunto por la capital de México, ¿Cuál es?',\n",
              "  'Háblame de cuál es la capital de Canadá'],\n",
              " 'responses': ['La capital es...']}"
            ]
          },
          "metadata": {},
          "execution_count": 5
        }
      ]
    },
    {
      "cell_type": "code",
      "source": [
        "labels = []\n",
        "texts = []\n",
        "\n",
        "for intent in data['intents']:\n",
        "    for pattern in intent['patterns']:\n",
        "        texts.append(pattern)\n",
        "    if intent['tag'] not in labels:\n",
        "        labels.append(intent['tag'])"
      ],
      "metadata": {
        "id": "k5sSQVYOW62Z"
      },
      "execution_count": 6,
      "outputs": []
    },
    {
      "cell_type": "code",
      "source": [
        "texts"
      ],
      "metadata": {
        "colab": {
          "base_uri": "https://localhost:8080/"
        },
        "id": "1BEvA-q7XQeq",
        "outputId": "d7dab2ec-b949-4253-b406-1469ef8829d3"
      },
      "execution_count": 7,
      "outputs": [
        {
          "output_type": "execute_result",
          "data": {
            "text/plain": [
              "['¿Cuál es la capital de Fráncia?',\n",
              " '¿Sabes cuál es la capital para España?',\n",
              " 'En las capitales del mundo, ¿Cuál le pertenece a Inglaterra?',\n",
              " 'Si te pregunto por la capital de México, ¿Cuál es?',\n",
              " 'Háblame de cuál es la capital de Canadá',\n",
              " '¿Cuál es la raíz cuadrada de 12',\n",
              " '¿Puedes calcular la raíz cuadrada de 34.67?',\n",
              " 'Dame la raíz cuadrada de 25',\n",
              " 'A que no calculas la raíz de 34.56',\n",
              " 'Calcúlame la raiz de 125.90',\n",
              " '¿Qué idioma se habla en Austria?',\n",
              " '¿En Austria qué idioma hablan?',\n",
              " '¿Sabes cuál es el idioma hablado en austria?',\n",
              " '¿En qué idioma me hablan si viajo a Austria?',\n",
              " '¿Cuál es el animal más grande del mundo?',\n",
              " 'Sabes cuál es el animal más grande en el mundo?',\n",
              " '¿En todo el mundo cuál es el animál más grande?',\n",
              " 'Dime cuál animal es más grande en todo el planeta',\n",
              " '¿Qué significa ADN?',\n",
              " '¿Qué significan las siglas de ADN?',\n",
              " '¿Las siglas de AND para qué son utilizadas?',\n",
              " '¿Me puedes decir qué significa ADN?',\n",
              " '¿Cómo te llamas?',\n",
              " '¿Cuál es tu nombre?',\n",
              " '¿Cómo te puedo llamar?',\n",
              " '¿Con quién hablo?',\n",
              " '¿A qué nombre respondes?',\n",
              " '¿Tienes algún nombre?',\n",
              " '¿Cómo te puedo llamar?',\n",
              " '¿Cómo te nombraron?',\n",
              " '¿Cuántos países hay en Europa?',\n",
              " '¿Cuantos paises conforman la unión Europea?',\n",
              " '¿Con cuantos paises cuenta europa?',\n",
              " 'Cantidad de paises en Europa',\n",
              " 'Cantidad de países que hay en la unión europea',\n",
              " 'Países europeos',\n",
              " '¿Quién descubrió América?',\n",
              " '¿Sabes quién es el descubridor de América?',\n",
              " '¿A quién se le atribuye el descubrimiento de América?',\n",
              " '¿Háblame sobre el descubrimiento de América?',\n",
              " '¿Cuándo fue descubierta América?']"
            ]
          },
          "metadata": {},
          "execution_count": 7
        }
      ]
    },
    {
      "cell_type": "code",
      "source": [
        "labels"
      ],
      "metadata": {
        "colab": {
          "base_uri": "https://localhost:8080/"
        },
        "id": "d99BRiHZXSa6",
        "outputId": "6bee0534-0be5-4eec-a1ac-c7f058ab3f6d"
      },
      "execution_count": 8,
      "outputs": [
        {
          "output_type": "execute_result",
          "data": {
            "text/plain": [
              "['Capital',\n",
              " 'Raiz_Cuadrada',\n",
              " 'Idioma_Austria',\n",
              " 'Animal_mas_grande',\n",
              " 'ADN',\n",
              " 'Nombre',\n",
              " 'Paises_Europa',\n",
              " 'Critobal_Colon']"
            ]
          },
          "metadata": {},
          "execution_count": 8
        }
      ]
    },
    {
      "cell_type": "markdown",
      "source": [
        "Now, we need to generate the output vector so we can use it for training a classification model."
      ],
      "metadata": {
        "id": "PRvMNLpAXcaN"
      }
    },
    {
      "cell_type": "code",
      "source": [
        "output = []\n",
        "\n",
        "for intent in data['intents']:\n",
        "  for pattern in intent['patterns']:\n",
        "    output.append(labels.index(intent['tag']))\n",
        "\n",
        "print(output)"
      ],
      "metadata": {
        "id": "jcUakGMTXT1U"
      },
      "execution_count": 9,
      "outputs": []
    },
    {
      "cell_type": "code",
      "source": [
        "train_labels = to_categorical(output, num_classes=len(labels))\n",
        "print(train_labels)"
      ],
      "metadata": {
        "colab": {
          "base_uri": "https://localhost:8080/"
        },
        "id": "acaiUBDjX9bs",
        "outputId": "7d37f17b-ffd3-4999-ac8a-9e474cf25a33"
      },
      "execution_count": 13,
      "outputs": [
        {
          "output_type": "stream",
          "name": "stdout",
          "text": [
            "[[1. 0. 0. 0. 0. 0. 0. 0.]\n",
            " [1. 0. 0. 0. 0. 0. 0. 0.]\n",
            " [1. 0. 0. 0. 0. 0. 0. 0.]\n",
            " [1. 0. 0. 0. 0. 0. 0. 0.]\n",
            " [1. 0. 0. 0. 0. 0. 0. 0.]\n",
            " [0. 1. 0. 0. 0. 0. 0. 0.]\n",
            " [0. 1. 0. 0. 0. 0. 0. 0.]\n",
            " [0. 1. 0. 0. 0. 0. 0. 0.]\n",
            " [0. 1. 0. 0. 0. 0. 0. 0.]\n",
            " [0. 1. 0. 0. 0. 0. 0. 0.]\n",
            " [0. 0. 1. 0. 0. 0. 0. 0.]\n",
            " [0. 0. 1. 0. 0. 0. 0. 0.]\n",
            " [0. 0. 1. 0. 0. 0. 0. 0.]\n",
            " [0. 0. 1. 0. 0. 0. 0. 0.]\n",
            " [0. 0. 0. 1. 0. 0. 0. 0.]\n",
            " [0. 0. 0. 1. 0. 0. 0. 0.]\n",
            " [0. 0. 0. 1. 0. 0. 0. 0.]\n",
            " [0. 0. 0. 1. 0. 0. 0. 0.]\n",
            " [0. 0. 0. 0. 1. 0. 0. 0.]\n",
            " [0. 0. 0. 0. 1. 0. 0. 0.]\n",
            " [0. 0. 0. 0. 1. 0. 0. 0.]\n",
            " [0. 0. 0. 0. 1. 0. 0. 0.]\n",
            " [0. 0. 0. 0. 0. 1. 0. 0.]\n",
            " [0. 0. 0. 0. 0. 1. 0. 0.]\n",
            " [0. 0. 0. 0. 0. 1. 0. 0.]\n",
            " [0. 0. 0. 0. 0. 1. 0. 0.]\n",
            " [0. 0. 0. 0. 0. 1. 0. 0.]\n",
            " [0. 0. 0. 0. 0. 1. 0. 0.]\n",
            " [0. 0. 0. 0. 0. 1. 0. 0.]\n",
            " [0. 0. 0. 0. 0. 1. 0. 0.]\n",
            " [0. 0. 0. 0. 0. 0. 1. 0.]\n",
            " [0. 0. 0. 0. 0. 0. 1. 0.]\n",
            " [0. 0. 0. 0. 0. 0. 1. 0.]\n",
            " [0. 0. 0. 0. 0. 0. 1. 0.]\n",
            " [0. 0. 0. 0. 0. 0. 1. 0.]\n",
            " [0. 0. 0. 0. 0. 0. 1. 0.]\n",
            " [0. 0. 0. 0. 0. 0. 0. 1.]\n",
            " [0. 0. 0. 0. 0. 0. 0. 1.]\n",
            " [0. 0. 0. 0. 0. 0. 0. 1.]\n",
            " [0. 0. 0. 0. 0. 0. 0. 1.]\n",
            " [0. 0. 0. 0. 0. 0. 0. 1.]]\n"
          ]
        }
      ]
    },
    {
      "cell_type": "markdown",
      "source": [
        "## Data preprocessing"
      ],
      "metadata": {
        "id": "aQbA73huZuWT"
      }
    },
    {
      "cell_type": "code",
      "source": [
        "stop_words = stopwords.words('spanish')"
      ],
      "metadata": {
        "id": "1pbIN9eKZFs2"
      },
      "execution_count": 17,
      "outputs": []
    },
    {
      "cell_type": "code",
      "source": [
        "def text_preprocessing(texts):\n",
        "  X = []\n",
        "\n",
        "  for txt in texts:\n",
        "    # Remove stop words\n",
        "    for stop_word in stop_words:\n",
        "      txt = txt.replace(\" \" + stop_word + \" \", \" \")\n",
        "\n",
        "    # Remove acentos\n",
        "    txt = txt.replace(\"á\", \"a\")\n",
        "    txt = txt.replace(\"é\", \"e\")\n",
        "    txt = txt.replace(\"í\", \"i\")\n",
        "    txt = txt.replace(\"ó\", \"o\")\n",
        "    txt = txt.replace(\"ú\", \"u\")\n",
        "\n",
        "    # Remove multiple whitespaces\n",
        "    txt = re.sub(r'\\s+', \" \", txt)\n",
        "\n",
        "    # Lowercase text\n",
        "    txt = txt.lower()\n",
        "\n",
        "    # Remove punctuation marks\n",
        "    tokenizer = RegexpTokenizer(r'\\w+')\n",
        "    result = tokenizer.tokenize(txt)\n",
        "\n",
        "    X.append(TreebankWordDetokenizer().detokenize(result))\n",
        "\n",
        "  return X\n",
        "\n"
      ],
      "metadata": {
        "id": "eH1tpcqEaaHX"
      },
      "execution_count": 37,
      "outputs": []
    },
    {
      "cell_type": "code",
      "source": [
        "X = text_preprocessing(texts)"
      ],
      "metadata": {
        "id": "CjGG1T79es8m"
      },
      "execution_count": 38,
      "outputs": []
    },
    {
      "cell_type": "markdown",
      "source": [
        "## Prepare data"
      ],
      "metadata": {
        "id": "NgHocl7lhYV9"
      }
    },
    {
      "cell_type": "code",
      "source": [
        "maxlen_user = 5\n",
        "tokenizer = Tokenizer()\n",
        "tokenizer.fit_on_texts(X)\n",
        "X_seq = tokenizer.texts_to_sequences(X)\n",
        "X_train = pad_sequences(X_seq, padding='post', maxlen=maxlen_user)"
      ],
      "metadata": {
        "id": "h6YGqHj-ex_s"
      },
      "execution_count": 40,
      "outputs": []
    },
    {
      "cell_type": "code",
      "source": [
        "print(X_train)"
      ],
      "metadata": {
        "colab": {
          "base_uri": "https://localhost:8080/"
        },
        "id": "NY1ehvyIiNJY",
        "outputId": "deb47013-02f7-4bc2-ddc8-b6fee2b04766"
      },
      "execution_count": 41,
      "outputs": [
        {
          "output_type": "stream",
          "name": "stdout",
          "text": [
            "[[ 1  5 36  0  0]\n",
            " [ 6  1  5 37  0]\n",
            " [38  8  1 39 40]\n",
            " [41  5 42  1 43]\n",
            " [23  1  5 44  0]\n",
            " [ 1  3 15 45  0]\n",
            " [46  3 15 25 47]\n",
            " [48  3 15 49  0]\n",
            " [16 50  3 25 51]\n",
            " [52  3 53 54  0]\n",
            " [17  9 55 10  0]\n",
            " [ 7 10  9 26  0]\n",
            " [ 6  1  9 56 10]\n",
            " [ 9 26 22 57 10]\n",
            " [ 1 11 12  8  0]\n",
            " [ 6  1 11 12  8]\n",
            " [ 7  8  1 11 12]\n",
            " [58  1 11 12 59]\n",
            " [17 27 18  0  0]\n",
            " [17 60 28 18  0]\n",
            " [61 28 62 63  0]\n",
            " [64 24 65 27 18]\n",
            " [13 66  0  0  0]\n",
            " [ 1 19  0  0  0]\n",
            " [13 29 30  0  0]\n",
            " [31 14 67  0  0]\n",
            " [16 19 68  0  0]\n",
            " [69 70 19  0  0]\n",
            " [13 29 30  0  0]\n",
            " [13 71  0  0  0]\n",
            " [20  2 21  0  0]\n",
            " [20  2 72 32 33]\n",
            " [31 20  2 73 21]\n",
            " [34  2 21  0  0]\n",
            " [34  2 32 33  0]\n",
            " [ 2 74  0  0  0]\n",
            " [14 75  4  0  0]\n",
            " [ 6 14 76  4  0]\n",
            " [16 14 77 35  4]\n",
            " [23 35  4  0  0]\n",
            " [78 79  4  0  0]]\n"
          ]
        }
      ]
    },
    {
      "cell_type": "code",
      "source": [],
      "metadata": {
        "id": "nt0f7k0AiOjd"
      },
      "execution_count": null,
      "outputs": []
    }
  ]
}